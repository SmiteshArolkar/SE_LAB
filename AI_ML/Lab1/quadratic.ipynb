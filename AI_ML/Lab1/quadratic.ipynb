{
 "cells": [
  {
   "attachments": {},
   "cell_type": "markdown",
   "metadata": {},
   "source": [
    "#### To solve quadratic equations"
   ]
  },
  {
   "attachments": {},
   "cell_type": "markdown",
   "metadata": {},
   "source": [
    "Steps:\n",
    "- take a,b,c in ax<sup>2</sup> + bx + c = 0\n",
    "- the formula for roots is (-b +- sqrt(d))/2a\n"
   ]
  },
  {
   "cell_type": "code",
   "execution_count": 5,
   "metadata": {},
   "outputs": [
    {
     "name": "stdout",
     "output_type": "stream",
     "text": [
      "Program to solve quadratic equations:\n",
      "Enter a,b,c (from ax^2 + bx + c):\n"
     ]
    },
    {
     "ename": "ValueError",
     "evalue": "invalid literal for int() with base 10: '1 4 4'",
     "output_type": "error",
     "traceback": [
      "\u001b[1;31m---------------------------------------------------------------------------\u001b[0m",
      "\u001b[1;31mValueError\u001b[0m                                Traceback (most recent call last)",
      "Cell \u001b[1;32mIn[5], line 18\u001b[0m\n\u001b[0;32m     16\u001b[0m \u001b[39mwhile\u001b[39;00m \u001b[39mTrue\u001b[39;00m:\n\u001b[0;32m     17\u001b[0m   \u001b[39mprint\u001b[39m(\u001b[39m\"\u001b[39m\u001b[39mEnter a,b,c (from ax^2 + bx + c):\u001b[39m\u001b[39m\"\u001b[39m)\n\u001b[1;32m---> 18\u001b[0m   a \u001b[39m=\u001b[39m \u001b[39mint\u001b[39;49m(\u001b[39minput\u001b[39;49m(\u001b[39m\"\u001b[39;49m\u001b[39m\"\u001b[39;49m))\n\u001b[0;32m     19\u001b[0m   b \u001b[39m=\u001b[39m \u001b[39mint\u001b[39m(\u001b[39minput\u001b[39m(\u001b[39m\"\u001b[39m\u001b[39m\"\u001b[39m))\n\u001b[0;32m     20\u001b[0m   c \u001b[39m=\u001b[39m \u001b[39mint\u001b[39m(\u001b[39minput\u001b[39m(\u001b[39m\"\u001b[39m\u001b[39m\"\u001b[39m))\n",
      "\u001b[1;31mValueError\u001b[0m: invalid literal for int() with base 10: '1 4 4'"
     ]
    }
   ],
   "source": [
    "def findRoots(a,b,c):\n",
    "  \"\"\"\n",
    "  Function that finds the roots of a given quadratic equation\n",
    "  or returns 0,0 if it has complex roots\n",
    "  \"\"\"\n",
    "  d = (b**2) - 4 * a * c\n",
    "  if d < 0:\n",
    "    return 0,0\n",
    "  sd = d ** 0.5\n",
    "  p = (-b + sd)/(2*a)\n",
    "  q = (-b - sd)/(2*a)\n",
    "  return p,q\n",
    "\n",
    "if __name__ == \"__main__\":\n",
    "  print(\"Program to solve quadratic equations:\")\n",
    "  while True:\n",
    "    print(\"Enter a,b,c (from ax^2 + bx + c):\")\n",
    "    a = int(input(\"\"))\n",
    "    b = int(input(\"\"))\n",
    "    c = int(input(\"\"))\n",
    "    print(a,b,c,sep=\" | \")\n",
    "    break\n",
    "\n"
   ]
  }
 ],
 "metadata": {
  "kernelspec": {
   "display_name": "trialconda",
   "language": "python",
   "name": "python3"
  },
  "language_info": {
   "codemirror_mode": {
    "name": "ipython",
    "version": 3
   },
   "file_extension": ".py",
   "mimetype": "text/x-python",
   "name": "python",
   "nbconvert_exporter": "python",
   "pygments_lexer": "ipython3",
   "version": "3.10.9"
  },
  "orig_nbformat": 4
 },
 "nbformat": 4,
 "nbformat_minor": 2
}
